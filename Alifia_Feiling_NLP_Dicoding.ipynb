{
  "nbformat": 4,
  "nbformat_minor": 0,
  "metadata": {
    "colab": {
      "name": "Alifia Feiling Asmoro Siwi - NLP Dicoding.ipynb",
      "provenance": [],
      "collapsed_sections": []
    },
    "kernelspec": {
      "name": "python3",
      "display_name": "Python 3"
    },
    "language_info": {
      "name": "python"
    }
  },
  "cells": [
    {
      "cell_type": "markdown",
      "metadata": {
        "id": "K0FiRtELsNcc"
      },
      "source": [
        "**DATA DIRI**\n"
      ]
    },
    {
      "cell_type": "markdown",
      "metadata": {
        "id": "cwRoGCfgsaXE"
      },
      "source": [
        "Nama : Alifia Feiling Asmoro Siwi"
      ]
    },
    {
      "cell_type": "markdown",
      "metadata": {
        "id": "nzJ3_t7QsmLC"
      },
      "source": [
        "Username : alifiafas"
      ]
    },
    {
      "cell_type": "markdown",
      "metadata": {
        "id": "L_iU0a1Zso6f"
      },
      "source": [
        "IDCAMP : Machine Learning Developer"
      ]
    },
    {
      "cell_type": "code",
      "metadata": {
        "colab": {
          "base_uri": "https://localhost:8080/"
        },
        "id": "FWepYelqlUjl",
        "outputId": "cfe86ba8-cd9b-43f0-86fc-7a6968b12881"
      },
      "source": [
        "from google.colab import drive\n",
        "drive.mount('/content/drive')"
      ],
      "execution_count": 26,
      "outputs": [
        {
          "output_type": "stream",
          "text": [
            "Drive already mounted at /content/drive; to attempt to forcibly remount, call drive.mount(\"/content/drive\", force_remount=True).\n"
          ],
          "name": "stdout"
        }
      ]
    },
    {
      "cell_type": "code",
      "metadata": {
        "colab": {
          "base_uri": "https://localhost:8080/",
          "height": 35
        },
        "id": "Sd3Szo3fmPRf",
        "outputId": "b20fd5d5-9f65-480d-cdc8-c7769489206c"
      },
      "source": [
        "import tensorflow as tf\n",
        "tf.__version__"
      ],
      "execution_count": 27,
      "outputs": [
        {
          "output_type": "execute_result",
          "data": {
            "application/vnd.google.colaboratory.intrinsic+json": {
              "type": "string"
            },
            "text/plain": [
              "'2.5.0'"
            ]
          },
          "metadata": {
            "tags": []
          },
          "execution_count": 27
        }
      ]
    },
    {
      "cell_type": "code",
      "metadata": {
        "colab": {
          "base_uri": "https://localhost:8080/",
          "height": 949
        },
        "id": "IuSdkG1ylpWP",
        "outputId": "2a8f7d4f-9394-4a34-aa0d-f906b2eac7ba"
      },
      "source": [
        "import numpy as np \n",
        "import pandas as pd \n",
        "import os\n",
        "import matplotlib.pyplot as plt\n",
        "import seaborn as sns\n",
        "from sklearn.utils import shuffle\n",
        "import string\n",
        "from tensorflow.keras.layers.experimental.preprocessing import TextVectorization\n",
        "from tensorflow.keras.layers import Activation, Dense, Embedding, GlobalAveragePooling1D\n",
        "from keras.preprocessing.text import Tokenizer\n",
        "from keras.models import Sequential\n",
        "from keras.layers import Dense, Embedding, LSTM, SpatialDropout1D\n",
        "from sklearn.model_selection import train_test_split\n",
        "from keras.utils.np_utils import to_categorical\n",
        "from keras.callbacks import EarlyStopping\n",
        "from keras.layers import Dropout\n",
        "import re\n",
        "from nltk.corpus import stopwords\n",
        "from nltk import word_tokenize\n",
        "import nltk\n",
        "nltk.download('stopwords')\n",
        "STOPWORDS = set(stopwords.words('english'))\n",
        "\n",
        "consumer = pd.read_csv(\"/content/consumer.csv\")\n",
        "consumer"
      ],
      "execution_count": 28,
      "outputs": [
        {
          "output_type": "stream",
          "text": [
            "[nltk_data] Downloading package stopwords to /root/nltk_data...\n",
            "[nltk_data]   Package stopwords is already up-to-date!\n"
          ],
          "name": "stdout"
        },
        {
          "output_type": "execute_result",
          "data": {
            "text/html": [
              "<div>\n",
              "<style scoped>\n",
              "    .dataframe tbody tr th:only-of-type {\n",
              "        vertical-align: middle;\n",
              "    }\n",
              "\n",
              "    .dataframe tbody tr th {\n",
              "        vertical-align: top;\n",
              "    }\n",
              "\n",
              "    .dataframe thead th {\n",
              "        text-align: right;\n",
              "    }\n",
              "</style>\n",
              "<table border=\"1\" class=\"dataframe\">\n",
              "  <thead>\n",
              "    <tr style=\"text-align: right;\">\n",
              "      <th></th>\n",
              "      <th>Unnamed: 0</th>\n",
              "      <th>Complaint ID</th>\n",
              "      <th>Product</th>\n",
              "      <th>Sub-product</th>\n",
              "      <th>Issue</th>\n",
              "      <th>Sub-issue</th>\n",
              "      <th>State</th>\n",
              "      <th>ZIP code</th>\n",
              "      <th>Date received</th>\n",
              "      <th>Date sent to company</th>\n",
              "      <th>Company</th>\n",
              "      <th>Company response</th>\n",
              "      <th>Timely response?</th>\n",
              "      <th>Consumer disputed?</th>\n",
              "    </tr>\n",
              "  </thead>\n",
              "  <tbody>\n",
              "    <tr>\n",
              "      <th>0</th>\n",
              "      <td>0</td>\n",
              "      <td>1291006</td>\n",
              "      <td>Debt collection</td>\n",
              "      <td>NaN</td>\n",
              "      <td>Communication tactics</td>\n",
              "      <td>Frequent or repeated calls</td>\n",
              "      <td>TX</td>\n",
              "      <td>76119.0</td>\n",
              "      <td>2015-03-19</td>\n",
              "      <td>2015-03-19</td>\n",
              "      <td>Premium Asset Services, LLC</td>\n",
              "      <td>In progress</td>\n",
              "      <td>Yes</td>\n",
              "      <td>NaN</td>\n",
              "    </tr>\n",
              "    <tr>\n",
              "      <th>1</th>\n",
              "      <td>1</td>\n",
              "      <td>1290580</td>\n",
              "      <td>Debt collection</td>\n",
              "      <td>Medical</td>\n",
              "      <td>Cont'd attempts collect debt not owed</td>\n",
              "      <td>Debt is not mine</td>\n",
              "      <td>TX</td>\n",
              "      <td>77479.0</td>\n",
              "      <td>2015-03-19</td>\n",
              "      <td>2015-03-19</td>\n",
              "      <td>Accounts Receivable Consultants Inc.</td>\n",
              "      <td>Closed with explanation</td>\n",
              "      <td>Yes</td>\n",
              "      <td>NaN</td>\n",
              "    </tr>\n",
              "    <tr>\n",
              "      <th>2</th>\n",
              "      <td>2</td>\n",
              "      <td>1290564</td>\n",
              "      <td>Mortgage</td>\n",
              "      <td>FHA mortgage</td>\n",
              "      <td>Application, originator, mortgage broker</td>\n",
              "      <td>NaN</td>\n",
              "      <td>MA</td>\n",
              "      <td>2127.0</td>\n",
              "      <td>2015-03-19</td>\n",
              "      <td>2015-03-19</td>\n",
              "      <td>RBS Citizens</td>\n",
              "      <td>Closed with explanation</td>\n",
              "      <td>Yes</td>\n",
              "      <td>Yes</td>\n",
              "    </tr>\n",
              "    <tr>\n",
              "      <th>3</th>\n",
              "      <td>3</td>\n",
              "      <td>1291615</td>\n",
              "      <td>Credit card</td>\n",
              "      <td>NaN</td>\n",
              "      <td>Other</td>\n",
              "      <td>NaN</td>\n",
              "      <td>CA</td>\n",
              "      <td>92592.0</td>\n",
              "      <td>2015-03-19</td>\n",
              "      <td>2015-03-19</td>\n",
              "      <td>Navy FCU</td>\n",
              "      <td>In progress</td>\n",
              "      <td>Yes</td>\n",
              "      <td>NaN</td>\n",
              "    </tr>\n",
              "    <tr>\n",
              "      <th>4</th>\n",
              "      <td>4</td>\n",
              "      <td>1292165</td>\n",
              "      <td>Debt collection</td>\n",
              "      <td>Non-federal student loan</td>\n",
              "      <td>Cont'd attempts collect debt not owed</td>\n",
              "      <td>Debt resulted from identity theft</td>\n",
              "      <td>NaN</td>\n",
              "      <td>43068.0</td>\n",
              "      <td>2015-03-19</td>\n",
              "      <td>2015-03-19</td>\n",
              "      <td>Transworld Systems Inc.</td>\n",
              "      <td>In progress</td>\n",
              "      <td>Yes</td>\n",
              "      <td>NaN</td>\n",
              "    </tr>\n",
              "    <tr>\n",
              "      <th>...</th>\n",
              "      <td>...</td>\n",
              "      <td>...</td>\n",
              "      <td>...</td>\n",
              "      <td>...</td>\n",
              "      <td>...</td>\n",
              "      <td>...</td>\n",
              "      <td>...</td>\n",
              "      <td>...</td>\n",
              "      <td>...</td>\n",
              "      <td>...</td>\n",
              "      <td>...</td>\n",
              "      <td>...</td>\n",
              "      <td>...</td>\n",
              "      <td>...</td>\n",
              "    </tr>\n",
              "    <tr>\n",
              "      <th>28151</th>\n",
              "      <td>28151</td>\n",
              "      <td>1178184</td>\n",
              "      <td>Debt collection</td>\n",
              "      <td>NaN</td>\n",
              "      <td>Cont'd attempts collect debt not owed</td>\n",
              "      <td>Debt is not mine</td>\n",
              "      <td>TX</td>\n",
              "      <td>75201.0</td>\n",
              "      <td>2015-01-01</td>\n",
              "      <td>2015-01-02</td>\n",
              "      <td>Enhanced Recovery Company, LLC</td>\n",
              "      <td>Closed with non-monetary relief</td>\n",
              "      <td>Yes</td>\n",
              "      <td>No</td>\n",
              "    </tr>\n",
              "    <tr>\n",
              "      <th>28152</th>\n",
              "      <td>28152</td>\n",
              "      <td>1178183</td>\n",
              "      <td>Consumer loan</td>\n",
              "      <td>Vehicle loan</td>\n",
              "      <td>Taking out the loan or lease</td>\n",
              "      <td>NaN</td>\n",
              "      <td>GA</td>\n",
              "      <td>30043.0</td>\n",
              "      <td>2015-01-01</td>\n",
              "      <td>2015-01-07</td>\n",
              "      <td>DriveTime</td>\n",
              "      <td>Closed with explanation</td>\n",
              "      <td>Yes</td>\n",
              "      <td>NaN</td>\n",
              "    </tr>\n",
              "    <tr>\n",
              "      <th>28153</th>\n",
              "      <td>28153</td>\n",
              "      <td>1178182</td>\n",
              "      <td>Mortgage</td>\n",
              "      <td>Conventional fixed mortgage</td>\n",
              "      <td>Loan servicing, payments, escrow account</td>\n",
              "      <td>NaN</td>\n",
              "      <td>MN</td>\n",
              "      <td>55105.0</td>\n",
              "      <td>2015-01-01</td>\n",
              "      <td>2015-01-02</td>\n",
              "      <td>Regions</td>\n",
              "      <td>Closed with non-monetary relief</td>\n",
              "      <td>Yes</td>\n",
              "      <td>No</td>\n",
              "    </tr>\n",
              "    <tr>\n",
              "      <th>28154</th>\n",
              "      <td>28154</td>\n",
              "      <td>1178181</td>\n",
              "      <td>Payday loan</td>\n",
              "      <td>NaN</td>\n",
              "      <td>Can't stop charges to bank account</td>\n",
              "      <td>NaN</td>\n",
              "      <td>CA</td>\n",
              "      <td>92509.0</td>\n",
              "      <td>2015-01-01</td>\n",
              "      <td>2015-01-07</td>\n",
              "      <td>Moneytree Inc</td>\n",
              "      <td>Closed with explanation</td>\n",
              "      <td>Yes</td>\n",
              "      <td>NaN</td>\n",
              "    </tr>\n",
              "    <tr>\n",
              "      <th>28155</th>\n",
              "      <td>28155</td>\n",
              "      <td>1178180</td>\n",
              "      <td>Money transfers</td>\n",
              "      <td>Domestic (US) money transfer</td>\n",
              "      <td>Other transaction issues</td>\n",
              "      <td>NaN</td>\n",
              "      <td>OH</td>\n",
              "      <td>45068.0</td>\n",
              "      <td>2015-01-01</td>\n",
              "      <td>2015-01-02</td>\n",
              "      <td>PayPal</td>\n",
              "      <td>Closed with explanation</td>\n",
              "      <td>Yes</td>\n",
              "      <td>Yes</td>\n",
              "    </tr>\n",
              "  </tbody>\n",
              "</table>\n",
              "<p>28156 rows × 14 columns</p>\n",
              "</div>"
            ],
            "text/plain": [
              "       Unnamed: 0  Complaint ID  ... Timely response? Consumer disputed?\n",
              "0               0       1291006  ...              Yes                NaN\n",
              "1               1       1290580  ...              Yes                NaN\n",
              "2               2       1290564  ...              Yes                Yes\n",
              "3               3       1291615  ...              Yes                NaN\n",
              "4               4       1292165  ...              Yes                NaN\n",
              "...           ...           ...  ...              ...                ...\n",
              "28151       28151       1178184  ...              Yes                 No\n",
              "28152       28152       1178183  ...              Yes                NaN\n",
              "28153       28153       1178182  ...              Yes                 No\n",
              "28154       28154       1178181  ...              Yes                NaN\n",
              "28155       28155       1178180  ...              Yes                Yes\n",
              "\n",
              "[28156 rows x 14 columns]"
            ]
          },
          "metadata": {
            "tags": []
          },
          "execution_count": 28
        }
      ]
    },
    {
      "cell_type": "code",
      "metadata": {
        "colab": {
          "base_uri": "https://localhost:8080/"
        },
        "id": "XGKVAfdvl7ov",
        "outputId": "6c9e3bf3-749c-42ae-9838-ce7873a75b2c"
      },
      "source": [
        "consumer.isnull().sum()"
      ],
      "execution_count": 29,
      "outputs": [
        {
          "output_type": "execute_result",
          "data": {
            "text/plain": [
              "Unnamed: 0                  0\n",
              "Complaint ID                0\n",
              "Product                     0\n",
              "Sub-product             10574\n",
              "Issue                       2\n",
              "Sub-issue               14945\n",
              "State                     421\n",
              "ZIP code                  280\n",
              "Date received               0\n",
              "Date sent to company        0\n",
              "Company                     0\n",
              "Company response            0\n",
              "Timely response?            0\n",
              "Consumer disputed?      22150\n",
              "dtype: int64"
            ]
          },
          "metadata": {
            "tags": []
          },
          "execution_count": 29
        }
      ]
    },
    {
      "cell_type": "code",
      "metadata": {
        "colab": {
          "base_uri": "https://localhost:8080/"
        },
        "id": "OqSMmEo3l-1g",
        "outputId": "72fdb8da-4cc4-400b-de6e-791b537f2e90"
      },
      "source": [
        "consumer.dtypes"
      ],
      "execution_count": 30,
      "outputs": [
        {
          "output_type": "execute_result",
          "data": {
            "text/plain": [
              "Unnamed: 0                int64\n",
              "Complaint ID              int64\n",
              "Product                  object\n",
              "Sub-product              object\n",
              "Issue                    object\n",
              "Sub-issue                object\n",
              "State                    object\n",
              "ZIP code                float64\n",
              "Date received            object\n",
              "Date sent to company     object\n",
              "Company                  object\n",
              "Company response         object\n",
              "Timely response?         object\n",
              "Consumer disputed?       object\n",
              "dtype: object"
            ]
          },
          "metadata": {
            "tags": []
          },
          "execution_count": 30
        }
      ]
    },
    {
      "cell_type": "code",
      "metadata": {
        "colab": {
          "base_uri": "https://localhost:8080/"
        },
        "id": "5jy2OO6kmFsf",
        "outputId": "9219da61-d71d-4a71-dd00-ee373965b92d"
      },
      "source": [
        "consumer.shape"
      ],
      "execution_count": 31,
      "outputs": [
        {
          "output_type": "execute_result",
          "data": {
            "text/plain": [
              "(28156, 14)"
            ]
          },
          "metadata": {
            "tags": []
          },
          "execution_count": 31
        }
      ]
    },
    {
      "cell_type": "code",
      "metadata": {
        "colab": {
          "base_uri": "https://localhost:8080/"
        },
        "id": "A3N9ExBdmLHJ",
        "outputId": "b5c23597-4f04-4f24-907c-28829df7a398"
      },
      "source": [
        "consumer.describe"
      ],
      "execution_count": 32,
      "outputs": [
        {
          "output_type": "execute_result",
          "data": {
            "text/plain": [
              "<bound method NDFrame.describe of        Unnamed: 0  Complaint ID  ... Timely response? Consumer disputed?\n",
              "0               0       1291006  ...              Yes                NaN\n",
              "1               1       1290580  ...              Yes                NaN\n",
              "2               2       1290564  ...              Yes                Yes\n",
              "3               3       1291615  ...              Yes                NaN\n",
              "4               4       1292165  ...              Yes                NaN\n",
              "...           ...           ...  ...              ...                ...\n",
              "28151       28151       1178184  ...              Yes                 No\n",
              "28152       28152       1178183  ...              Yes                NaN\n",
              "28153       28153       1178182  ...              Yes                 No\n",
              "28154       28154       1178181  ...              Yes                NaN\n",
              "28155       28155       1178180  ...              Yes                Yes\n",
              "\n",
              "[28156 rows x 14 columns]>"
            ]
          },
          "metadata": {
            "tags": []
          },
          "execution_count": 32
        }
      ]
    },
    {
      "cell_type": "code",
      "metadata": {
        "colab": {
          "base_uri": "https://localhost:8080/",
          "height": 449
        },
        "id": "ZrgVQQVZmNKD",
        "outputId": "0417b86a-d382-4f31-dfc1-63a59ddeed30"
      },
      "source": [
        "plt.figure(figsize=(14,7))\n",
        "sns.heatmap(consumer.corr(method='kendall'), annot=True )"
      ],
      "execution_count": 33,
      "outputs": [
        {
          "output_type": "execute_result",
          "data": {
            "text/plain": [
              "<matplotlib.axes._subplots.AxesSubplot at 0x7f80bcd09790>"
            ]
          },
          "metadata": {
            "tags": []
          },
          "execution_count": 33
        },
        {
          "output_type": "display_data",
          "data": {
            "image/png": "[encoded data removed]",
            "text/plain": [
              "<Figure size 1008x504 with 2 Axes>"
            ]
          },
          "metadata": {
            "tags": [],
            "needs_background": "light"
          }
        }
      ]
    },
    {
      "cell_type": "code",
      "metadata": {
        "id": "_P-rXwBpnR33"
      },
      "source": [
        "consumer = consumer.reset_index(drop=True)\n",
        "ganti_re = re.compile('[/(){}\\[\\]\\|@,;]')\n",
        "simbolburuk = re.compile('[^0-9a-z #+_]')\n",
        "STOPWORDS = set(stopwords.words('english'))\n",
        "\n",
        "def bersihkan_teks(teks):\n",
        "    \"\"\"\n",
        "        text: a string\n",
        "        \n",
        "        return: modified initial string\n",
        "    \"\"\"\n",
        "    teks = str(teks).lower() \n",
        "    teks = ganti_re.sub(' ', teks)\n",
        "    teks = simbolburuk.sub('', teks) \n",
        "    teks = teks.replace('x', '')\n",
        "\n",
        "    teks = ' '.join(word for word in teks.split() if word not in STOPWORDS)\n",
        "    return teks\n",
        "consumer['Issue'] = consumer['Issue'].apply(bersihkan_teks)"
      ],
      "execution_count": 34,
      "outputs": []
    },
    {
      "cell_type": "code",
      "metadata": {
        "id": "5xAs3pWdo1YU"
      },
      "source": [
        "consumer['Issue'] = consumer['Issue'].str.replace('\\d+', '')"
      ],
      "execution_count": 35,
      "outputs": []
    },
    {
      "cell_type": "code",
      "metadata": {
        "colab": {
          "base_uri": "https://localhost:8080/"
        },
        "id": "-Sb1cbmfpiEe",
        "outputId": "7eb8339c-4a20-4343-ac19-a3d4d0beb5dc"
      },
      "source": [
        "maks_kata = 50000\n",
        "\n",
        "maks_length = 250\n",
        "\n",
        "embedding_dim= 100\n",
        "\n",
        "tokenizer = Tokenizer(num_words=maks_kata, filters='!\"#$%&()*+,-./:;<=>?@[\\]^_`{|}~', lower=True)\n",
        "tokenizer.fit_on_texts(consumer['Issue'].values)\n",
        "word_index = tokenizer.word_index\n",
        "print('Menemukan %s token unik.' % len(word_index))"
      ],
      "execution_count": 36,
      "outputs": [
        {
          "output_type": "stream",
          "text": [
            "Menemukan 168 token unik.\n"
          ],
          "name": "stdout"
        }
      ]
    },
    {
      "cell_type": "code",
      "metadata": {
        "colab": {
          "base_uri": "https://localhost:8080/"
        },
        "id": "N5yl0CRfp9Gd",
        "outputId": "019141ae-5cbb-4b12-c85a-b42d6bc77d32"
      },
      "source": [
        "X = tokenizer.texts_to_sequences(consumer['Issue'].values)\n",
        "X = pad_sequences(X, maxlen=maks_length)\n",
        "print('Ukuran tensor x : ', X.shape)"
      ],
      "execution_count": 37,
      "outputs": [
        {
          "output_type": "stream",
          "text": [
            "Ukuran tensor x :  (28156, 250)\n"
          ],
          "name": "stdout"
        }
      ]
    },
    {
      "cell_type": "code",
      "metadata": {
        "colab": {
          "base_uri": "https://localhost:8080/"
        },
        "id": "eujtVobrqWMc",
        "outputId": "e2605299-d5ce-4192-c7ea-6485e26d491b"
      },
      "source": [
        "Y = pd.get_dummies(consumer['Product']).values\n",
        "print('Ukuran tensor y:', Y.shape)"
      ],
      "execution_count": 38,
      "outputs": [
        {
          "output_type": "stream",
          "text": [
            "Ukuran tensor y: (28156, 11)\n"
          ],
          "name": "stdout"
        }
      ]
    },
    {
      "cell_type": "code",
      "metadata": {
        "colab": {
          "base_uri": "https://localhost:8080/"
        },
        "id": "rPJmgk5TqfiP",
        "outputId": "99ec8774-f5f4-46ee-f0d3-3d910662eb73"
      },
      "source": [
        "X_train, X_test, Y_train, Y_test = train_test_split(X,Y, test_size = 0.20, random_state = 42)\n",
        "print(X_train.shape,Y_train.shape)\n",
        "print(X_test.shape,Y_test.shape)"
      ],
      "execution_count": 39,
      "outputs": [
        {
          "output_type": "stream",
          "text": [
            "(22524, 250) (22524, 11)\n",
            "(5632, 250) (5632, 11)\n"
          ],
          "name": "stdout"
        }
      ]
    },
    {
      "cell_type": "code",
      "metadata": {
        "colab": {
          "base_uri": "https://localhost:8080/"
        },
        "id": "QzPCgNN-qihg",
        "outputId": "d4f43580-e355-4345-cfcf-62b1bc15c048"
      },
      "source": [
        "model = Sequential()\n",
        "model.add(Embedding(maks_kata, embedding_dim, input_length=X.shape[1]))\n",
        "model.add(SpatialDropout1D(0.2))\n",
        "model.add(LSTM(100, dropout=0.2, recurrent_dropout=0.2))\n",
        "model.add(Dense(11, activation='softmax'))\n",
        "model.compile(loss='categorical_crossentropy', optimizer='adam', metrics=['accuracy'])\n",
        "print(model.summary())\n"
      ],
      "execution_count": 40,
      "outputs": [
        {
          "output_type": "stream",
          "text": [
            "Model: \"sequential_1\"\n",
            "_________________________________________________________________\n",
            "Layer (type)                 Output Shape              Param #   \n",
            "=================================================================\n",
            "embedding_1 (Embedding)      (None, 250, 100)          5000000   \n",
            "_________________________________________________________________\n",
            "spatial_dropout1d_1 (Spatial (None, 250, 100)          0         \n",
            "_________________________________________________________________\n",
            "lstm_1 (LSTM)                (None, 100)               80400     \n",
            "_________________________________________________________________\n",
            "dense_1 (Dense)              (None, 11)                1111      \n",
            "=================================================================\n",
            "Total params: 5,081,511\n",
            "Trainable params: 5,081,511\n",
            "Non-trainable params: 0\n",
            "_________________________________________________________________\n",
            "None\n"
          ],
          "name": "stdout"
        }
      ]
    },
    {
      "cell_type": "code",
      "metadata": {
        "colab": {
          "base_uri": "https://localhost:8080/"
        },
        "id": "-jj3RQxuqzAc",
        "outputId": "60f3d5eb-0d0b-406e-c2e4-f7fb9150b249"
      },
      "source": [
        "epochs = 5\n",
        "batch_size = 256\n",
        "\n",
        "history = model.fit(X_train, Y_train, epochs=epochs, batch_size=batch_size,validation_split=0.2,callbacks=[EarlyStopping(monitor='val_loss', patience=3, min_delta=0.0001)])"
      ],
      "execution_count": 41,
      "outputs": [
        {
          "output_type": "stream",
          "text": [
            "Epoch 1/5\n",
            "71/71 [==============================] - 138s 2s/step - loss: 1.8304 - accuracy: 0.4327 - val_loss: 0.4118 - val_accuracy: 0.9330\n",
            "Epoch 2/5\n",
            "71/71 [==============================] - 133s 2s/step - loss: 0.2944 - accuracy: 0.9404 - val_loss: 0.0842 - val_accuracy: 0.9791\n",
            "Epoch 3/5\n",
            "71/71 [==============================] - 134s 2s/step - loss: 0.0772 - accuracy: 0.9816 - val_loss: 0.0406 - val_accuracy: 0.9940\n",
            "Epoch 4/5\n",
            "71/71 [==============================] - 134s 2s/step - loss: 0.0445 - accuracy: 0.9918 - val_loss: 0.0289 - val_accuracy: 0.9938\n",
            "Epoch 5/5\n",
            "71/71 [==============================] - 133s 2s/step - loss: 0.0309 - accuracy: 0.9936 - val_loss: 0.0231 - val_accuracy: 0.9940\n"
          ],
          "name": "stdout"
        }
      ]
    },
    {
      "cell_type": "code",
      "metadata": {
        "colab": {
          "base_uri": "https://localhost:8080/"
        },
        "id": "crdXaHbAvsf4",
        "outputId": "b0a8ae01-f66e-4279-a973-07c86cfedbab"
      },
      "source": [
        "akurasi = model.evaluate(X_test,Y_test)\n",
        "print('Test set\\n  Loss: {:0.3f}\\n  Accuracy: {:0.3f}'.format(akurasi[0],akurasi[1]))"
      ],
      "execution_count": 42,
      "outputs": [
        {
          "output_type": "stream",
          "text": [
            "176/176 [==============================] - 12s 64ms/step - loss: 0.0270 - accuracy: 0.9922\n",
            "Test set\n",
            "  Loss: 0.027\n",
            "  Accuracy: 0.992\n"
          ],
          "name": "stdout"
        }
      ]
    },
    {
      "cell_type": "code",
      "metadata": {
        "colab": {
          "base_uri": "https://localhost:8080/",
          "height": 281
        },
        "id": "NQgW_fGmx78u",
        "outputId": "22b53caf-a590-4cf3-cc43-2ed8b438fe24"
      },
      "source": [
        "plt.title('Loss')\n",
        "plt.plot(history.history['loss'], label='train')\n",
        "plt.plot(history.history['val_loss'], label='test')\n",
        "plt.legend()\n",
        "plt.show();"
      ],
      "execution_count": 43,
      "outputs": [
        {
          "output_type": "display_data",
          "data": {
            "image/png": "[encoded data removed]",
            "text/plain": [
              "<Figure size 432x288 with 1 Axes>"
            ]
          },
          "metadata": {
            "tags": [],
            "needs_background": "light"
          }
        }
      ]
    },
    {
      "cell_type": "code",
      "metadata": {
        "colab": {
          "base_uri": "https://localhost:8080/",
          "height": 281
        },
        "id": "-M-QS7DLyDHR",
        "outputId": "d79b55a3-af8e-453a-e282-21b264788d2d"
      },
      "source": [
        "plt.title('Accuracy')\n",
        "plt.plot(history.history['accuracy'], label='train')\n",
        "plt.plot(history.history['val_accuracy'], label='test')\n",
        "plt.legend()\n",
        "plt.show();"
      ],
      "execution_count": 44,
      "outputs": [
        {
          "output_type": "display_data",
          "data": {
            "image/png": "[encoded data removed]",
            "text/plain": [
              "<Figure size 432x288 with 1 Axes>"
            ]
          },
          "metadata": {
            "tags": [],
            "needs_background": "light"
          }
        }
      ]
    },
    {
      "cell_type": "markdown",
      "metadata": {
        "id": "R7hmvcoi1U-v"
      },
      "source": [
        "### **Lampiran DATA DIRI di dicoding**"
      ]
    },
    {
      "cell_type": "code",
      "metadata": {
        "colab": {
          "base_uri": "https://localhost:8080/",
          "height": 223
        },
        "id": "mr5sgFVV04me",
        "outputId": "3908bf84-639e-4946-8b35-90c8c148dee2"
      },
      "source": [
        "import matplotlib.image as mpimg\n",
        "img = mpimg.imread('/content/Data diri Alifia Feiling.jpg')\n",
        "imgplot = plt.imshow(img)\n",
        "plt.show()"
      ],
      "execution_count": 45,
      "outputs": [
        {
          "output_type": "display_data",
          "data": {
            "image/png": "[encoded data removed]",
            "text/plain": [
              "<Figure size 432x288 with 1 Axes>"
            ]
          },
          "metadata": {
            "tags": [],
            "needs_background": "light"
          }
        }
      ]
    },
    {
      "cell_type": "code",
      "metadata": {
        "id": "FpkCGE0bEML0"
      },
      "source": [
        ""
      ],
      "execution_count": 45,
      "outputs": []
    }
  ]
}